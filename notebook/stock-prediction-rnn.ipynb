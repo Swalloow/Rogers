{
 "cells": [
  {
   "cell_type": "code",
   "execution_count": 1,
   "metadata": {
    "collapsed": true
   },
   "outputs": [],
   "source": [
    "import pandas as pd"
   ]
  },
  {
   "cell_type": "code",
   "execution_count": 2,
   "metadata": {},
   "outputs": [
    {
     "data": {
      "text/html": [
       "<div>\n",
       "<style>\n",
       "    .dataframe thead tr:only-child th {\n",
       "        text-align: right;\n",
       "    }\n",
       "\n",
       "    .dataframe thead th {\n",
       "        text-align: left;\n",
       "    }\n",
       "\n",
       "    .dataframe tbody tr th {\n",
       "        vertical-align: top;\n",
       "    }\n",
       "</style>\n",
       "<table border=\"1\" class=\"dataframe\">\n",
       "  <thead>\n",
       "    <tr style=\"text-align: right;\">\n",
       "      <th></th>\n",
       "      <th>date</th>\n",
       "      <th>close</th>\n",
       "      <th>diff</th>\n",
       "      <th>open</th>\n",
       "      <th>high</th>\n",
       "      <th>low</th>\n",
       "      <th>volume</th>\n",
       "    </tr>\n",
       "  </thead>\n",
       "  <tbody>\n",
       "    <tr>\n",
       "      <th>0</th>\n",
       "      <td>2018-04-10</td>\n",
       "      <td>122500.0</td>\n",
       "      <td>1000.0</td>\n",
       "      <td>121500.0</td>\n",
       "      <td>123500.0</td>\n",
       "      <td>121500.0</td>\n",
       "      <td>321437.0</td>\n",
       "    </tr>\n",
       "    <tr>\n",
       "      <th>1</th>\n",
       "      <td>2018-04-09</td>\n",
       "      <td>121500.0</td>\n",
       "      <td>1000.0</td>\n",
       "      <td>121500.0</td>\n",
       "      <td>122500.0</td>\n",
       "      <td>120000.0</td>\n",
       "      <td>547412.0</td>\n",
       "    </tr>\n",
       "    <tr>\n",
       "      <th>2</th>\n",
       "      <td>2018-04-06</td>\n",
       "      <td>122500.0</td>\n",
       "      <td>2000.0</td>\n",
       "      <td>125000.0</td>\n",
       "      <td>125500.0</td>\n",
       "      <td>122000.0</td>\n",
       "      <td>376868.0</td>\n",
       "    </tr>\n",
       "    <tr>\n",
       "      <th>3</th>\n",
       "      <td>2018-04-05</td>\n",
       "      <td>124500.0</td>\n",
       "      <td>1000.0</td>\n",
       "      <td>125000.0</td>\n",
       "      <td>126000.0</td>\n",
       "      <td>124000.0</td>\n",
       "      <td>299168.0</td>\n",
       "    </tr>\n",
       "    <tr>\n",
       "      <th>4</th>\n",
       "      <td>2018-04-04</td>\n",
       "      <td>123500.0</td>\n",
       "      <td>5000.0</td>\n",
       "      <td>129000.0</td>\n",
       "      <td>129000.0</td>\n",
       "      <td>123500.0</td>\n",
       "      <td>730140.0</td>\n",
       "    </tr>\n",
       "  </tbody>\n",
       "</table>\n",
       "</div>"
      ],
      "text/plain": [
       "        date     close    diff      open      high       low    volume\n",
       "0 2018-04-10  122500.0  1000.0  121500.0  123500.0  121500.0  321437.0\n",
       "1 2018-04-09  121500.0  1000.0  121500.0  122500.0  120000.0  547412.0\n",
       "2 2018-04-06  122500.0  2000.0  125000.0  125500.0  122000.0  376868.0\n",
       "3 2018-04-05  124500.0  1000.0  125000.0  126000.0  124000.0  299168.0\n",
       "4 2018-04-04  123500.0  5000.0  129000.0  129000.0  123500.0  730140.0"
      ]
     },
     "execution_count": 2,
     "metadata": {},
     "output_type": "execute_result"
    }
   ],
   "source": [
    "df = pd.read_pickle(\"../dataset/035720.p\")\n",
    "df.head()"
   ]
  },
  {
   "cell_type": "code",
   "execution_count": null,
   "metadata": {
    "collapsed": true
   },
   "outputs": [],
   "source": []
  }
 ],
 "metadata": {
  "kernelspec": {
   "display_name": "Python 3",
   "language": "python",
   "name": "python3"
  },
  "language_info": {
   "codemirror_mode": {
    "name": "ipython",
    "version": 3
   },
   "file_extension": ".py",
   "mimetype": "text/x-python",
   "name": "python",
   "nbconvert_exporter": "python",
   "pygments_lexer": "ipython3",
   "version": "3.5.1"
  }
 },
 "nbformat": 4,
 "nbformat_minor": 2
}
