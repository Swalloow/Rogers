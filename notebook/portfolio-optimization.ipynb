{
 "cells": [
  {
   "cell_type": "markdown",
   "metadata": {},
   "source": [
    "# Portfolio Optimization"
   ]
  },
  {
   "cell_type": "markdown",
   "metadata": {},
   "source": [
    "- 포트폴리오 최적화 이론에 대한 정리 자료\n",
    "- **포트폴리오**란, 다양한 자산에 분산하여 투자하는 것을 말함\n",
    "- **분산투자**를 통해 변동성과 위험을 낮출 수 있음\n",
    "- **자산 배분이란?** 위험 대비 수익을 최대화하는 포트폴리오를 구성하는 것\n",
    "\n",
    "---\n",
    "#### Tactical Asset Allocation(TAA)\n",
    "- 위험 대비 수익을 \"단기적으로\" 최대화\n",
    "- Smart Beta...\n",
    "\n",
    "#### Strategic Asset Allocation(SAA)\n",
    "- 위험 대비 수익을 \"장기적으로\" 최대화\n",
    "- 일반적으로 위험과 수익률은 비례 관계\n",
    "- SAA 모델은 위험(변동성)이 낮으면서 수익률이 높은 포트폴리오를 만드는 것이 목표\n",
    "- Markowitz, Black-Litterman Model"
   ]
  },
  {
   "cell_type": "markdown",
   "metadata": {},
   "source": [
    "---\n",
    "#### 평균 수익률 (Expectation)\n",
    "- 투자에 있어서 평균 수익률은 산술평균이 아닌 **기하평균**으로 계산되어야 함\n",
    "- $E(R) = \\frac{1}{N}\\sum_{i=1}^{N}R_i$\n",
    "\n",
    "#### 변동성 (Varience)\n",
    "- $\\sigma^2 = Var(R) = \\frac{1}{N-1}\\sum_{i=1}^{N}(R_i-\\bar{R})$\n",
    "\n",
    "#### 공분산 (Covarience)\n",
    "- $Cov(R^1, R^2) = E[(R^1-\\bar{R^1})(R^2-\\bar{R^2})] = \\frac{1}{N-1}\\sum_{i=1}^{N}(R^1-\\bar{R^1})(R^2-\\bar{R^2})$\n",
    "\n",
    "#### 상관관계 (Correlation Coefficient)\n",
    "- $\\rho = \\cfrac{Cov(X,Y)}{Std(X)Std(Y)}, (-1\\leq\\rho\\leq1)$"
   ]
  },
  {
   "cell_type": "markdown",
   "metadata": {},
   "source": [
    "---\n",
    "## 포트폴리오 기대수익과 위험 측정\n",
    "\n",
    "#### 포트폴리오 정의\n",
    "- 주어진 예산 내에서 자산 별 투자 비중\n",
    "- $w = portfolio = [w_1, w_2, ... , w_N]^T, where \\sum_{i=1}^{N}w_i = 1$\n",
    "\n",
    "#### 포트폴리오의 기대 수익 (Weighted Average)\n",
    "- 개별 자산의 기대수익률과 포트폴리오의 비중을 곱해서 합산\n",
    "- $\\mu_p = portfolio \\times expectation = [w_1, w_2, ... , w_N][R_1, R_2, ... , R_N]^T$\n",
    "\n",
    "#### 포트폴리오의 변동성 (=위험)\n",
    "- $\\sigma_p^2 = [w_1, w_2, ... , w_N]\n",
    " \\begin{bmatrix}\n",
    "  \\sigma_{11} & \\sigma_{12} & \\cdots & \\sigma_{1n} \\\\\n",
    "  \\vdots  & \\vdots  & \\ddots & \\vdots  \\\\\n",
    "  \\sigma_{n1} & \\sigma_{n2} & \\cdots & \\sigma_{n^2} \n",
    " \\end{bmatrix}\n",
    " \\begin{bmatrix}\n",
    "  w_{1} \\\\\n",
    "  w_{2} \\\\\n",
    "  \\vdots \\\\\n",
    "  w_{N} \\\\\n",
    "\\end{bmatrix}\n",
    "$"
   ]
  },
  {
   "cell_type": "code",
   "execution_count": 1,
   "metadata": {},
   "outputs": [],
   "source": [
    "import math\n",
    "import numpy as np\n",
    "import pandas as pd\n",
    "import seaborn as sns\n",
    "import matplotlib.pyplot as plt\n",
    "sns.set_style('darkgrid')\n",
    "%matplotlib inline"
   ]
  },
  {
   "cell_type": "code",
   "execution_count": 2,
   "metadata": {},
   "outputs": [
    {
     "data": {
      "text/html": [
       "<div>\n",
       "<style>\n",
       "    .dataframe thead tr:only-child th {\n",
       "        text-align: right;\n",
       "    }\n",
       "\n",
       "    .dataframe thead th {\n",
       "        text-align: left;\n",
       "    }\n",
       "\n",
       "    .dataframe tbody tr th {\n",
       "        vertical-align: top;\n",
       "    }\n",
       "</style>\n",
       "<table border=\"1\" class=\"dataframe\">\n",
       "  <thead>\n",
       "    <tr style=\"text-align: right;\">\n",
       "      <th></th>\n",
       "      <th>close</th>\n",
       "      <th>open</th>\n",
       "      <th>high</th>\n",
       "      <th>low</th>\n",
       "      <th>volume</th>\n",
       "    </tr>\n",
       "    <tr>\n",
       "      <th>date</th>\n",
       "      <th></th>\n",
       "      <th></th>\n",
       "      <th></th>\n",
       "      <th></th>\n",
       "      <th></th>\n",
       "    </tr>\n",
       "  </thead>\n",
       "  <tbody>\n",
       "    <tr>\n",
       "      <th>2017-01-02</th>\n",
       "      <td>76700.0</td>\n",
       "      <td>77400.0</td>\n",
       "      <td>77600.0</td>\n",
       "      <td>76600.0</td>\n",
       "      <td>143140.0</td>\n",
       "    </tr>\n",
       "    <tr>\n",
       "      <th>2017-01-03</th>\n",
       "      <td>80000.0</td>\n",
       "      <td>77200.0</td>\n",
       "      <td>80000.0</td>\n",
       "      <td>77000.0</td>\n",
       "      <td>445180.0</td>\n",
       "    </tr>\n",
       "    <tr>\n",
       "      <th>2017-01-04</th>\n",
       "      <td>84300.0</td>\n",
       "      <td>80400.0</td>\n",
       "      <td>85100.0</td>\n",
       "      <td>80300.0</td>\n",
       "      <td>1224395.0</td>\n",
       "    </tr>\n",
       "    <tr>\n",
       "      <th>2017-01-05</th>\n",
       "      <td>84000.0</td>\n",
       "      <td>85000.0</td>\n",
       "      <td>86000.0</td>\n",
       "      <td>84000.0</td>\n",
       "      <td>611713.0</td>\n",
       "    </tr>\n",
       "    <tr>\n",
       "      <th>2017-01-06</th>\n",
       "      <td>83700.0</td>\n",
       "      <td>84400.0</td>\n",
       "      <td>84500.0</td>\n",
       "      <td>82200.0</td>\n",
       "      <td>410880.0</td>\n",
       "    </tr>\n",
       "  </tbody>\n",
       "</table>\n",
       "</div>"
      ],
      "text/plain": [
       "              close     open     high      low     volume\n",
       "date                                                     \n",
       "2017-01-02  76700.0  77400.0  77600.0  76600.0   143140.0\n",
       "2017-01-03  80000.0  77200.0  80000.0  77000.0   445180.0\n",
       "2017-01-04  84300.0  80400.0  85100.0  80300.0  1224395.0\n",
       "2017-01-05  84000.0  85000.0  86000.0  84000.0   611713.0\n",
       "2017-01-06  83700.0  84400.0  84500.0  82200.0   410880.0"
      ]
     },
     "execution_count": 2,
     "metadata": {},
     "output_type": "execute_result"
    }
   ],
   "source": [
    "def get_dataset(code, start, end):\n",
    "    df = pd.read_pickle(\"../dataset/{}.p\".format(code))[::-1]\n",
    "    df = df[df['date'].between(start, end, inclusive=True)]\n",
    "    df = df.drop(['diff'], axis=1).set_index('date').sort_index()\n",
    "    return df\n",
    "\n",
    "# KAKAO 2017-01-01 ~ 2018-03-30\n",
    "df = get_dataset('035720', '2017-01-01', '2018-03-30')\n",
    "df.head()"
   ]
  },
  {
   "cell_type": "code",
   "execution_count": 3,
   "metadata": {
    "scrolled": false
   },
   "outputs": [
    {
     "data": {
      "text/plain": [
       "[<matplotlib.lines.Line2D at 0x1112da240>]"
      ]
     },
     "execution_count": 3,
     "metadata": {},
     "output_type": "execute_result"
    },
    {
     "data": {
      "image/png": "[encoded data removed]",
      "text/plain": [
       "<matplotlib.figure.Figure at 0x111217978>"
      ]
     },
     "metadata": {},
     "output_type": "display_data"
    }
   ],
   "source": [
    "plt.figure(figsize=(12,8))\n",
    "plt.xlabel(\"Time Period\")\n",
    "plt.ylabel(\"Stock Price\")\n",
    "close_price = df['close']\n",
    "plt.plot(close_price)"
   ]
  },
  {
   "cell_type": "markdown",
   "metadata": {},
   "source": [
    "## Daily per change"
   ]
  },
  {
   "cell_type": "code",
   "execution_count": 4,
   "metadata": {},
   "outputs": [
    {
     "data": {
      "text/plain": [
       "<Container object of 304 artists>"
      ]
     },
     "execution_count": 4,
     "metadata": {},
     "output_type": "execute_result"
    },
    {
     "data": {
      "image/png": "[encoded data removed]",
      "text/plain": [
       "<matplotlib.figure.Figure at 0x1112177f0>"
      ]
     },
     "metadata": {},
     "output_type": "display_data"
    }
   ],
   "source": [
    "plt.figure(figsize=(12,8))\n",
    "real_returns = close_price.pct_change()\n",
    "plt.bar(real_returns.index,real_returns)"
   ]
  },
  {
   "cell_type": "markdown",
   "metadata": {},
   "source": [
    "## Mean-Varience on Single Stock"
   ]
  },
  {
   "cell_type": "code",
   "execution_count": 5,
   "metadata": {
    "collapsed": true
   },
   "outputs": [],
   "source": [
    "def income(start, end):\n",
    "    return round((end - start) / start * 100, 2)\n",
    "\n",
    "def geometric_mean(iterable):\n",
    "    iterable = [i for i in iterable if int(i) is not 0]\n",
    "    a = np.log(iterable)\n",
    "    return np.exp(a.sum()/len(a))"
   ]
  },
  {
   "cell_type": "code",
   "execution_count": 6,
   "metadata": {
    "scrolled": false
   },
   "outputs": [
    {
     "data": {
      "text/plain": [
       "date\n",
       "2017-01-02    0.00\n",
       "2017-01-03    4.30\n",
       "2017-01-04    9.91\n",
       "2017-01-05    9.52\n",
       "2017-01-06    9.13\n",
       "Name: close, dtype: float64"
      ]
     },
     "execution_count": 6,
     "metadata": {},
     "output_type": "execute_result"
    }
   ],
   "source": [
    "point = close_price[0]\n",
    "result = close_price.apply(lambda d: income(point, d))\n",
    "result.head()"
   ]
  },
  {
   "cell_type": "code",
   "execution_count": 7,
   "metadata": {
    "scrolled": false
   },
   "outputs": [
    {
     "name": "stdout",
     "output_type": "stream",
     "text": [
      "Mean of daily income: 50.12638157894736\n",
      "Geometric Mean of daily income: 36.428618963268256\n",
      "Varience of daily income: 1060.6134776965027\n",
      "Standard Deviation of daily income: 32.56706123825886\n"
     ]
    }
   ],
   "source": [
    "print(\"Mean of daily income: {}\".format(np.mean(result)))\n",
    "print(\"Geometric Mean of daily income: {}\".format(geometric_mean(result)))\n",
    "print(\"Varience of daily income: {}\".format(np.var(result)))\n",
    "print(\"Standard Deviation of daily income: {}\".format(np.std(result)))"
   ]
  },
  {
   "cell_type": "markdown",
   "metadata": {},
   "source": [
    "## Mean-Varience on Portfolio\n",
    "- 네이버(30%), 카카오(30%), 셀트리온(20%), SK이노베이션(20%)"
   ]
  },
  {
   "cell_type": "code",
   "execution_count": 8,
   "metadata": {},
   "outputs": [],
   "source": [
    "def init_portfolio(stock, ratio, start, end):\n",
    "    dfs = []\n",
    "    for each in stock:\n",
    "        df = get_dataset(each, start, end)['close']\n",
    "        point = df[0]\n",
    "        result = df.apply(lambda d: income(point, d))\n",
    "        dfs.append(result)\n",
    "    return pd.concat(dfs, axis=1, keys=stock)\n",
    "\n",
    "def port_mean_var(avg_ret_, var_covar_, w_):\n",
    "    port_ret = np.dot(w_, avg_ret_)\n",
    "    port_std = np.dot(np.dot(w_, var_covar_), w_.T)\n",
    "    return port_ret, port_std"
   ]
  },
  {
   "cell_type": "code",
   "execution_count": 9,
   "metadata": {},
   "outputs": [
    {
     "data": {
      "text/html": [
       "<div>\n",
       "<style>\n",
       "    .dataframe thead tr:only-child th {\n",
       "        text-align: right;\n",
       "    }\n",
       "\n",
       "    .dataframe thead th {\n",
       "        text-align: left;\n",
       "    }\n",
       "\n",
       "    .dataframe tbody tr th {\n",
       "        vertical-align: top;\n",
       "    }\n",
       "</style>\n",
       "<table border=\"1\" class=\"dataframe\">\n",
       "  <thead>\n",
       "    <tr style=\"text-align: right;\">\n",
       "      <th></th>\n",
       "      <th>035420</th>\n",
       "      <th>035720</th>\n",
       "      <th>068270</th>\n",
       "      <th>096770</th>\n",
       "    </tr>\n",
       "    <tr>\n",
       "      <th>date</th>\n",
       "      <th></th>\n",
       "      <th></th>\n",
       "      <th></th>\n",
       "      <th></th>\n",
       "    </tr>\n",
       "  </thead>\n",
       "  <tbody>\n",
       "    <tr>\n",
       "      <th>2017-01-02</th>\n",
       "      <td>0.00</td>\n",
       "      <td>0.00</td>\n",
       "      <td>0.00</td>\n",
       "      <td>0.00</td>\n",
       "    </tr>\n",
       "    <tr>\n",
       "      <th>2017-01-03</th>\n",
       "      <td>-1.29</td>\n",
       "      <td>4.30</td>\n",
       "      <td>-1.48</td>\n",
       "      <td>5.44</td>\n",
       "    </tr>\n",
       "    <tr>\n",
       "      <th>2017-01-04</th>\n",
       "      <td>4.25</td>\n",
       "      <td>9.91</td>\n",
       "      <td>-1.94</td>\n",
       "      <td>6.12</td>\n",
       "    </tr>\n",
       "    <tr>\n",
       "      <th>2017-01-05</th>\n",
       "      <td>1.80</td>\n",
       "      <td>9.52</td>\n",
       "      <td>-1.66</td>\n",
       "      <td>4.76</td>\n",
       "    </tr>\n",
       "    <tr>\n",
       "      <th>2017-01-06</th>\n",
       "      <td>2.83</td>\n",
       "      <td>9.13</td>\n",
       "      <td>-2.68</td>\n",
       "      <td>6.80</td>\n",
       "    </tr>\n",
       "  </tbody>\n",
       "</table>\n",
       "</div>"
      ],
      "text/plain": [
       "            035420  035720  068270  096770\n",
       "date                                      \n",
       "2017-01-02    0.00    0.00    0.00    0.00\n",
       "2017-01-03   -1.29    4.30   -1.48    5.44\n",
       "2017-01-04    4.25    9.91   -1.94    6.12\n",
       "2017-01-05    1.80    9.52   -1.66    4.76\n",
       "2017-01-06    2.83    9.13   -2.68    6.80"
      ]
     },
     "execution_count": 9,
     "metadata": {},
     "output_type": "execute_result"
    }
   ],
   "source": [
    "stock = ['035420', '035720', '068270', '096770']\n",
    "ratio = [0.3, 0.3, 0.2, 0.2]\n",
    "df = init_portfolio(stock, ratio, '2017-01-01', '2018-03-30')\n",
    "df.head()"
   ]
  },
  {
   "cell_type": "code",
   "execution_count": 10,
   "metadata": {
    "scrolled": true
   },
   "outputs": [
    {
     "name": "stdout",
     "output_type": "stream",
     "text": [
      "Mean of portfolio: 31.353697368421052\n",
      "Varience of portfolio: 681.8218582117422\n"
     ]
    }
   ],
   "source": [
    "avg_ret = df.mean()\n",
    "var_covar = df.cov()\n",
    "w = np.array(ratio).T\n",
    "mean, var = port_mean_var(avg_ret, var_covar, w)\n",
    "\n",
    "print(\"Mean of portfolio: {}\".format(mean))\n",
    "print(\"Varience of portfolio: {}\".format(var))"
   ]
  }
 ],
 "metadata": {
  "kernelspec": {
   "display_name": "Python 3",
   "language": "python",
   "name": "python3"
  },
  "language_info": {
   "codemirror_mode": {
    "name": "ipython",
    "version": 3
   },
   "file_extension": ".py",
   "mimetype": "text/x-python",
   "name": "python",
   "nbconvert_exporter": "python",
   "pygments_lexer": "ipython3",
   "version": "3.5.1"
  }
 },
 "nbformat": 4,
 "nbformat_minor": 2
}
